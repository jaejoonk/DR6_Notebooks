{
  "cells": [
    {
      "cell_type": "markdown",
      "metadata": {
        "id": "view-in-github",
        "colab_type": "text"
      },
      "source": [
        "<a href=\"https://colab.research.google.com/github/jaejoonk/DR6_Notebooks/blob/main/ACT_DR6_lensing_galaxy_cross_correlation.ipynb\" target=\"_parent\"><img src=\"https://colab.research.google.com/assets/colab-badge.svg\" alt=\"Open In Colab\"/></a>"
      ]
    },
    {
      "cell_type": "markdown",
      "metadata": {
        "id": "K_9geFIcuqSV"
      },
      "source": [
        "# Galaxy-CMB lensing cross-correlations\n",
        "\n",
        "*Very little original content; mostly derived from [Notebook 4 of the DR4/DR5 notebooks](https://github.com/ACTCollaboration/DR4_DR5_Notebooks/blob/master/Notebooks/Section_5_Lensing_maps.ipynb) authored/edited by Maya Mallaby-Kay, Zach Atkins et al. Thank you to all the previous contributors!*\n",
        "\n",
        "We use ACT Data Release 6 (DR6) reconstructed lensing mass maps (and are publicly available on NASA LAMBDA) to demonstrate a cross-correlation with CMASS galaxies.\n",
        "\n",
        "Notebook Info | Value\n",
        "---|---\n",
        "Dependencies | `numpy`, `scipy`, `healpy`, `matplotlib`, `pixell`, `astropy`\n",
        "Memory usage | Medium (~ a few GB)\n",
        "Contributors | Maya Mallaby-Kay, Zach Atkins (edited by Joshua Kim, Gabriela Marques)\n",
        "\n",
        "To return to the main notebook or to view a different section use the links in the table of contents.\n",
        "\n",
        "\n",
        "## Table of contents\n",
        "\n",
        " ---\n",
        "> [Section 1](Section_1_Introduction.ipynb): Introduction to ACT Data Release 4\n",
        "\n",
        "> [Section 2](Section_2_coadded_maps.ipynb): S08-16 Coadded maps from [Naess et al (2020)](https://phy-act1.princeton.edu/public/saiola/act_dr4_N20.pdf) and an Introduction to Pixell\n",
        "\n",
        "> [Section 3](Section_3_HEALPix_CAR_Conversions.ipynb):  Demonstration of methods to convert maps between HEALPix format and the CAR format.\n",
        "\n",
        "> [Section 4](Section_4_visualize_objects.ipynb):  The DR5 Cluster Catalog from [Hilton et al (2020)](https://arxiv.org/abs/2009.11043) and Visualizing Objects in the Maps\n",
        "\n",
        "> [Section 5](Section_5_Lensing_maps.ipynb):  Introduction to the Lensing maps from [Darwish et al (2020)](https://arxiv.org/pdf/2004.01139.pdf)\n",
        "\n",
        "> [Section 6](Section_6_Component_separated_maps.ipynb):  Guide to the use of the Component Separated maps from [Madhavacheril et al (2019)](https://arxiv.org/abs/1911.05717)\n",
        "\n",
        "> [Section 7](Section_7_power_spectra_part_1.ipynb): Power Spectra Part 1 - Harmonic Analysis using CAR maps [Naess et al (2020)](https://phy-act1.princeton.edu/public/saiola/act_dr4_N20.pdf)\n",
        "\n",
        "> [Section 8](Section_8_power_spectra_part_2.ipynb) Power Spectra Part 2 - Power Spectrum example using Nawrapper [Aiola et al (2020)](https://phy-act1.princeton.edu/public/saiola/act_dr4_A20.pdf) and [Choi et al (2020)](https://phy-act1.princeton.edu/public/saiola/act_dr4_C20.pdf)\n",
        "\n",
        "> [Section 9](Section_9_Noise_sims.ipynb): Generating Noise Simulations\n",
        "\n",
        "> [Section 10](Section_10_E_B_maps.ipynb):  Look at how to generate E and B maps from I, Q, U maps.\n",
        "\n",
        "> [Section 11](Section_11_ACT_likelihood.ipynb): Using the ACT Likelihood code\n",
        "\n",
        "> [Section 12](Section_12_delensing_param_shifts.ipynb):  Delensing the CMB powerspectrum and comparing the delensed and lensed parameters from [Han et al. (2020)](https://arxiv.org/pdf/2007.14405.pdf)\n",
        "\n",
        "---"
      ]
    },
    {
      "cell_type": "markdown",
      "metadata": {
        "id": "tglbqHPcuqSW"
      },
      "source": [
        "## Initialize notebook\n",
        "\n",
        "We begin by installing key dependencies and software that we will use in this notebook.\n",
        "\n",
        "We will also define a function `eshow` that plots CAR / rectangular `pixell` maps for us."
      ]
    },
    {
      "cell_type": "code",
      "execution_count": null,
      "metadata": {
        "id": "ryG1tpVPvTs3"
      },
      "outputs": [],
      "source": [
        "!pip install numpy matplotlib pixell astropy healpy"
      ]
    },
    {
      "cell_type": "code",
      "execution_count": null,
      "metadata": {
        "id": "XAorhcH2uqSX"
      },
      "outputs": [],
      "source": [
        "import pixell\n",
        "from pixell import enplot, enmap, reproject, curvedsky as cs\n",
        "import numpy as np\n",
        "import healpy as hp\n",
        "import matplotlib.pyplot as plt\n",
        "\n",
        "def eshow(x,**kwargs):\n",
        "    ''' Define a function to help us plot the maps neatly '''\n",
        "    plots = enplot.get_plots(x, **kwargs)\n",
        "    enplot.show(plots, method = \"ipython\")"
      ]
    },
    {
      "cell_type": "code",
      "execution_count": null,
      "metadata": {
        "id": "D2p0JuPOvv6v"
      },
      "outputs": [],
      "source": [
        "# !wget https://portal.nersc.gov/project/act/dr6_lensing_v1/maps/baseline/kappa_alm_data_act_dr6_lensing_v1_baseline.fits\n",
        "!wget https://portal.nersc.gov/project/act/dr6_lensing_v1/maps/baseline/mask_act_dr6_lensing_v1_healpix_nside_4096_baseline.fits"
      ]
    },
    {
      "cell_type": "code",
      "execution_count": null,
      "metadata": {
        "id": "L_NX6-Klj0JO"
      },
      "outputs": [],
      "source": [
        "lensing_alms = hp.read_alm(\"kappa_alm_data_act_dr6_lensing_v1_baseline.fits\").astype(np.complex128)\n",
        "lensing_alms[~np.isfinite(lensing_alms)] = 0.\n",
        "\n",
        "fullsky_shape, fullsky_wcs = enmap.fullsky_geometry(res=np.deg2rad(4.0/60.))\n",
        "lensing_mask_healpix = hp.read_map(\"mask_act_dr6_lensing_v1_healpix_nside_4096_baseline.fits\")\n",
        "# downgrade to save some time\n",
        "lensing_mask_healpix = hp.ud_grade(lensing_mask_healpix, 1024)\n",
        "lensing_mask = reproject.healpix2map(lensing_mask_healpix, fullsky_shape, fullsky_wcs)\n",
        "\n",
        "# compute both healpix and pixell versions of my maps\n",
        "lensing = cs.alm2map(lensing_alms, enmap.empty(fullsky_shape, fullsky_wcs))\n",
        "lensing_healpix = hp.alm2map(lensing_alms, nside=1024)"
      ]
    },
    {
      "cell_type": "code",
      "execution_count": null,
      "metadata": {
        "id": "yzixmTMmXkNU"
      },
      "outputs": [],
      "source": [
        "# hide zero pixels to highlight our analysis footprint\n",
        "lensing_visual = np.copy(lensing)\n",
        "lensing_visual[lensing_mask < 0.3] = np.nan\n",
        "# Plot the map\n",
        "eshow(lensing_visual, **{\"downgrade\": 8, \"ticks\": 20, \"colorbar\": True, \"color\": 'gray'})"
      ]
    },
    {
      "cell_type": "markdown",
      "metadata": {
        "id": "ZW5bitEPuqSZ"
      },
      "source": [
        "## Cross correlate with a galaxy over density map\n",
        "\n",
        "These lensing maps can be cross correlated with other maps either directly in Pixell or by reprojecting to HEALPix.  For this demonstration we will cross correlate the lensing map with a galaxy overdensity map.  Since HEALPix is based on equal area pixels it is somewhat easier to build a density map in HEALPix.  In order to then cross correlate with the lensing map we will project the above CAR map to HEALPix as described in the Section 3 notebook.\n",
        "\n",
        "Once we've reprojected the map we can build a galaxy overdensity map using the definition\n",
        "\\begin{align}\n",
        "g(\\hat{p}) = \\frac{n(\\hat{p}) - \\bar{n}}{\\bar{n}}\n",
        " \\tag{1}\n",
        "\\end{align}\n",
        "\n",
        "Where $n(\\hat{p})$ is the number of galaxies in pixel $\\hat{p}$, and $\\bar{n}$ is the mean number of galaxies.\n",
        "\n",
        "This process is based on a notebook produced by Mathew Madhavacheril that is available [here](https://github.com/ACTCollaboration/Season2LensingMaps/blob/master/LensingXCorr.ipynb)"
      ]
    },
    {
      "cell_type": "code",
      "execution_count": null,
      "metadata": {
        "id": "MOGVUe3auqSZ"
      },
      "outputs": [],
      "source": [
        "# Project the lensing map to HEALPix\n",
        "lensing_hp = hp.alm2map(lensing_alms.astype(np.complex128), nside=1024)\n",
        "hp.mollview(lensing_hp)\n",
        "hp.graticule()"
      ]
    },
    {
      "cell_type": "markdown",
      "metadata": {
        "id": "k6RjPa7huqSa"
      },
      "source": [
        "## Make the overdensity map\n",
        "\n",
        "To begin with we will read in a catalog of galaxies.  This can be found [here](https://data.sdss.org/sas/dr12/boss/lss/galaxy_DR12v5_CMASSLOWZTOT_South.fits.gz) from SDSS' BOSS catalog of CMASS galaxies.  "
      ]
    },
    {
      "cell_type": "code",
      "execution_count": null,
      "metadata": {
        "id": "0oXIWqBq0ZXO"
      },
      "outputs": [],
      "source": [
        "!wget https://data.sdss.org/sas/dr12/boss/lss/galaxy_DR12v5_CMASSLOWZTOT_South.fits.gz\n",
        "!gunzip galaxy_DR12v5_CMASSLOWZTOT_South.fits.gz"
      ]
    },
    {
      "cell_type": "code",
      "execution_count": null,
      "metadata": {
        "id": "74wAP1suuqSa"
      },
      "outputs": [],
      "source": [
        "from astropy.io import fits\n",
        "from astropy import units as u\n",
        "redmap_hdu = fits.open(\"galaxy_DR12v5_CMASSLOWZTOT_South.fits\")\n",
        "\n",
        "class galaxy_catalog:\n",
        "    def __init__(self, catalog):\n",
        "        self.RA  = catalog[1].data['RA'] *u.deg\n",
        "        self.DEC = catalog[1].data['DEC']*u.deg\n",
        "\n",
        "redmap = galaxy_catalog(redmap_hdu)"
      ]
    },
    {
      "cell_type": "markdown",
      "metadata": {
        "id": "k4Stk5bWuqSb"
      },
      "source": [
        "### Generating an over density map using the catalog\n",
        "\n",
        "Now that we have the catalog we can generate an over density map by first creating a HEALPix map with the same shape and size as the lensed map, but filled with zeros.  From there we can find the pixel location of each galaxy and add the galaxies to our empty map.  \n",
        "\n"
      ]
    },
    {
      "cell_type": "code",
      "execution_count": null,
      "metadata": {
        "id": "28LFLjhZuqSb"
      },
      "outputs": [],
      "source": [
        "nside = 1024\n",
        "class CatMapper():\n",
        "    def __init__(self,ras_deg,decs_deg, weights = None):\n",
        "            self.nside = nside\n",
        "            self.shape = hp.nside2npix(nside)\n",
        "            self.pixs = hp.ang2pix(nside,ras_deg,decs_deg,lonlat=True)\n",
        "            self.counts = self.get_map(weights=weights)\n",
        "\n",
        "    def get_map(self,weights=None):\n",
        "        return np.histogram(self.pixs,bins=self.shape,weights=weights,\n",
        "                            range=[0,self.shape],density=False)[0].astype(np.float32)\n",
        "\n",
        "galaxies = CatMapper(redmap.RA.value, redmap.DEC.value).get_map()\n"
      ]
    },
    {
      "cell_type": "markdown",
      "metadata": {
        "id": "hgyzro0KuqSb"
      },
      "source": [
        "Next we apply a mask to the map and then finish by subtracting the mean from each pixel and dividing by the mean as indicated by equation 1 above. In this case we load the SDSS CMASS South mask to use for our galaxy density map."
      ]
    },
    {
      "cell_type": "code",
      "source": [
        "!wget https://github.com/jaejoonk/DR6_Notebooks/raw/main/mask_CMASS_DR12_nside1024_S_comp1_vetos1_resfac6_v2.fits"
      ],
      "metadata": {
        "id": "vU4Of3GM42FX"
      },
      "execution_count": null,
      "outputs": []
    },
    {
      "cell_type": "code",
      "execution_count": null,
      "metadata": {
        "id": "7qqhgSATuqSb"
      },
      "outputs": [],
      "source": [
        "# Load the mask\n",
        "galaxy_mask_healpix = hp.read_map(\"mask_CMASS_DR12_nside1024_S_comp1_vetos1_resfac6_v2.fits\")\n",
        "# make it binary\n",
        "galaxy_mask_healpix[galaxy_mask_healpix <= 0.3] = 0.\n",
        "galaxy_mask_healpix[galaxy_mask_healpix > 0.3] = 1.\n",
        "hp.mollview(galaxy_mask_healpix, title=\"galaxy overdensity mask\")\n",
        "\n",
        "galaxy_mask = reproject.healpix2map(galaxy_mask_healpix, fullsky_shape, fullsky_wcs)\n",
        "\n",
        "# We now select the pixels that are masked and unmasked\n",
        "masked = np.where(galaxy_mask <= 0.3)[0]\n",
        "unmasked = np.where(galaxy_mask > 0.3)[0]\n",
        "\n",
        "# Calculate the mean needed for equation 1\n",
        "mean = galaxies[unmasked].mean()\n",
        "\n",
        "# Create the map\n",
        "galaxy_map_healpix = galaxies.copy()\n",
        "galaxy_map_healpix[masked] = 0.\n",
        "galaxy_map_healpix[unmasked] = (galaxies[unmasked] - mean) / mean\n",
        "# avoid nans\n",
        "galaxy_map_healpix[~np.isfinite(galaxy_map_healpix)] = 0.\n",
        "\n",
        "# Plot the map\n",
        "hp.mollview(galaxy_map_healpix, title=\"galaxy overdensity map\")\n",
        "hp.graticule()"
      ]
    },
    {
      "cell_type": "markdown",
      "metadata": {
        "id": "ZSTQI3pduqSb"
      },
      "source": [
        "### Cross-correlate\n",
        "\n",
        "Now that since we are able to visualize the lensed map as well as the galaxy map we can cross-correlate them. For now we note that this is done by apodizing the maps and then using a Fourier transform approach to calculate the cross spectrum between the two maps.\n",
        "\n",
        "We also need to take into account the mask that has been applied to the maps.  Ordinarily one can correct for the effects of masking using\n",
        "$$C_L \\rightarrow \\frac{C_L}{\\langle W\\rangle} $$\n",
        "However the lensing maps already have a window / mask $W_L$ applied to them before the reconstruction takes place and so to correctly account for this effect we approximate by treating the effectively applied mask as $W_L^2$.\n",
        "\n",
        "We will also need to correct for the galaxy map's window / mask, and that is done by computing an overall correction factor of $\\langle W_L^2 W_g\\rangle$."
      ]
    },
    {
      "cell_type": "code",
      "execution_count": null,
      "metadata": {
        "id": "KFir8zsRuqSb"
      },
      "outputs": [],
      "source": [
        "W_L = lensing_mask_healpix\n",
        "W_g = galaxy_mask_healpix\n",
        "\n",
        "# Calculate the new window correction\n",
        "wfactor = np.mean(W_g*W_L**2)"
      ]
    },
    {
      "cell_type": "markdown",
      "metadata": {
        "id": "8to7qmhduqSc"
      },
      "source": [
        "### Cross-correlate the maps\n",
        "\n",
        "Now that we have both the correct masks effectively applied and the mask correction factor we can begin to cross correlate the two maps.  Since we have two HEALPix maps we can follow the usual cross-correlation procedures and use anafast to get $C_\\ell$.  This is actually slightly different to the method using in [Darwish et al (2020)](https://arxiv.org/pdf/2004.01139.pdf).  Those results are based on Fourier transforms in Pixell, however, we choose to present a Healpix based example so that users who are more familiar with Healpix can easily follow our approach."
      ]
    },
    {
      "cell_type": "code",
      "execution_count": null,
      "metadata": {
        "id": "ZFWe0ggjuqSc"
      },
      "outputs": [],
      "source": [
        "# Use anafast to generate cls\n",
        "\n",
        "cl  = hp.anafast(galaxy_map_healpix, lensing_healpix) / wfactor\n",
        "ell = np.arange(len(cl))\n",
        "print(ell.max())\n",
        "# Bin the resulting spectra as well as the ell values\n",
        "bins      = np.linspace(50, 3000, 30)\n",
        "digitized = np.digitize(ell, bins)\n",
        "cl_binned  = [cl[digitized == i].mean() for i in range(1, len(bins))]\n",
        "ell_binned = [ell[digitized == i].mean() for i in range(1, len(bins))]"
      ]
    },
    {
      "cell_type": "code",
      "execution_count": null,
      "metadata": {
        "id": "2sZCFug7uqSc"
      },
      "outputs": [],
      "source": [
        "# Now plot the quick power spectrum we just made\n",
        "plt.figure(figsize = (8,6))\n",
        "#plt.rc('font', family='serif')\n",
        "plt.plot(ell_binned,cl_binned,marker=\"o\",ls=\"none\")\n",
        "plt.xlabel('L', fontsize = 22)\n",
        "plt.ylabel('$C_{L}^{\\kappa g}$', fontsize = 22)\n",
        "plt.xticks(fontsize=14)\n",
        "plt.yticks(fontsize=14)\n",
        "plt.title(\"CMASS South Galaxies x ACT DR6 lensing\", fontsize=18)\n",
        "#plt.grid(True)\n",
        "plt.show()"
      ]
    },
    {
      "cell_type": "markdown",
      "metadata": {
        "id": "ip95Q15RuqSc"
      },
      "source": [
        "We definitely see a signal here that tapers off and approaches zero for higher L values but is above zero for low L, which is exactly what we expect to see.  We notice some fluctuations and of course we recognize that this quick cross correlation has only been done and does not take into account systematics such as:\n",
        "\n",
        "- Shot noise treatment (Poissonian noise from placing galaxies on pixelized map)\n",
        "- Pixel window function (Power spectrum from a discrete pixelized grid can be biased compared to a smooth map)\n",
        "- Mode coupling (Potentially complex mask geometries induce coupling between modes)\n",
        "- Transfer function ($W_L^2$ approximation is not exact, can calibrate multiplicative biases with simulations)\n",
        "\n",
        "and many, many more details that go into utilizing these cross-correlation power spectra to properly infer cosmology.\n",
        "\n",
        "\n",
        "A few of many examples of these CMB lensing x galaxy overdensity cross-correlation analyses that involve (now) public ACT data:\n",
        "- [Marques et al. 2024](https://arxiv.org/abs/2306.17268) :)\n",
        "- [Kim et al. 2024](https://arxiv.org/abs/2407.04606) / [Sailer et al. 2024](https://arxiv.org/abs/2407.04607) :)\n",
        "- [Farren et al. 2023](https://arxiv.org/abs/2309.05659)\n",
        "\n"
      ]
    }
  ],
  "metadata": {
    "colab": {
      "provenance": [],
      "include_colab_link": true
    },
    "kernelspec": {
      "display_name": "Python 3",
      "language": "python",
      "name": "python3"
    },
    "language_info": {
      "codemirror_mode": {
        "name": "ipython",
        "version": 3
      },
      "file_extension": ".py",
      "mimetype": "text/x-python",
      "name": "python",
      "nbconvert_exporter": "python",
      "pygments_lexer": "ipython3",
      "version": "3.8.5"
    }
  },
  "nbformat": 4,
  "nbformat_minor": 0
}